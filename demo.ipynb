{
 "cells": [
  {
   "cell_type": "markdown",
   "metadata": {},
   "source": [
    "# Tephra Inversion Framework Demo\n",
    "\n",
    "This notebook demonstrates the streamlined tephra inversion workflow for estimating plume height and eruption mass using Tephra2."
   ]
  },
  {
   "cell_type": "code",
   "execution_count": 3,
   "metadata": {},
   "outputs": [
    {
     "name": "stdout",
     "output_type": "stream",
     "text": [
      "\u001b[01;34m.\u001b[0m\n",
      "├── \u001b[01;34mconfig\u001b[0m\n",
      "│   ├── \u001b[00mdefault_config.py\u001b[0m\n",
      "│   └── \u001b[01;34m__pycache__\u001b[0m\n",
      "│       └── \u001b[00mdefault_config.cpython-310.pyc\u001b[0m\n",
      "├── \u001b[00mcore.10590\u001b[0m\n",
      "├── \u001b[00mcore.10831\u001b[0m\n",
      "├── \u001b[01;34mdata\u001b[0m\n",
      "│   ├── \u001b[01;34minput\u001b[0m\n",
      "│   │   ├── \u001b[00mobservations.csv\u001b[0m\n",
      "│   │   ├── \u001b[00msites.csv\u001b[0m\n",
      "│   │   ├── \u001b[00mtephra2.conf\u001b[0m\n",
      "│   │   └── \u001b[00mwind.txt\u001b[0m\n",
      "│   └── \u001b[01;34moutput\u001b[0m\n",
      "│       ├── \u001b[01;34mmcmc\u001b[0m\n",
      "│       ├── \u001b[01;34mplots\u001b[0m\n",
      "│       └── \u001b[00mtephra2_output.txt\u001b[0m\n",
      "├── \u001b[00mdemo.ipynb\u001b[0m\n",
      "├── \u001b[00mnode_\u001b[0m\n",
      "├── \u001b[00mREADME.md\u001b[0m\n",
      "├── \u001b[00mrequirements.txt\u001b[0m\n",
      "├── \u001b[01;34mscripts\u001b[0m\n",
      "│   ├── \u001b[01;34mcore\u001b[0m\n",
      "│   │   ├── \u001b[00mlhs.py\u001b[0m\n",
      "│   │   ├── \u001b[00mmcmc.py\u001b[0m\n",
      "│   │   ├── \u001b[01;34m__pycache__\u001b[0m\n",
      "│   │   └── \u001b[00mtephra2_interface.py\u001b[0m\n",
      "│   ├── \u001b[01;34mdata_handling\u001b[0m\n",
      "│   │   ├── \u001b[00mcoordinate_utils.py\u001b[0m\n",
      "│   │   ├── \u001b[00mesp_config.py\u001b[0m\n",
      "│   │   ├── \u001b[00mobservation_data.py\u001b[0m\n",
      "│   │   ├── \u001b[01;34m__pycache__\u001b[0m\n",
      "│   │   └── \u001b[00mwind_data.py\u001b[0m\n",
      "│   ├── \u001b[01;34m__pycache__\u001b[0m\n",
      "│   │   └── \u001b[00mtephra_inversion.cpython-310.pyc\u001b[0m\n",
      "│   ├── \u001b[00mtephra_inversion.py\u001b[0m\n",
      "│   └── \u001b[01;34mvisualization\u001b[0m\n",
      "│       ├── \u001b[00mdiagnostic_plots.py\u001b[0m\n",
      "│       ├── \u001b[00mobservation_plots.py\u001b[0m\n",
      "│       ├── \u001b[01;34m__pycache__\u001b[0m\n",
      "│       └── \u001b[00mwind_plots.py\u001b[0m\n",
      "├── \u001b[01;34mTephra2\u001b[0m\n",
      "│   ├── \u001b[01;34mcommon_src\u001b[0m\n",
      "│   │   ├── \u001b[00mcommon_structures.h\u001b[0m\n",
      "│   │   ├── \u001b[00mparameters.h\u001b[0m\n",
      "│   │   ├── \u001b[00mprototypes.h\u001b[0m\n",
      "│   │   └── \u001b[00mtephra2_calc.c\u001b[0m\n",
      "│   ├── \u001b[00mfind_best_wind.pl\u001b[0m\n",
      "│   ├── \u001b[01;34mforward_src\u001b[0m\n",
      "│   │   ├── \u001b[00mmakefile.linux\u001b[0m\n",
      "│   │   ├── \u001b[00mmakefile.other\u001b[0m\n",
      "│   │   ├── \u001b[00mnew_tephra.c\u001b[0m\n",
      "│   │   ├── \u001b[00mnew_tephra.o\u001b[0m\n",
      "│   │   └── \u001b[00mtephra2_calc.o\u001b[0m\n",
      "│   ├── \u001b[01;34minclude\u001b[0m\n",
      "│   │   ├── \u001b[01;34mgc\u001b[0m\n",
      "│   │   ├── \u001b[01;32mgc_config_macros.h\u001b[0m\n",
      "│   │   ├── \u001b[01;32mgc.h\u001b[0m\n",
      "│   │   ├── \u001b[01;32mgc_local_alloc.h\u001b[0m\n",
      "│   │   ├── \u001b[01;32mgc_pthread_redirects.h\u001b[0m\n",
      "│   │   ├── \u001b[01;32mgc_typed.h\u001b[0m\n",
      "│   │   └── \u001b[01;32mleak_detector.h\u001b[0m\n",
      "│   ├── \u001b[01;34minputs\u001b[0m\n",
      "│   │   ├── \u001b[00mcolima_59wgs84z13.xyz\u001b[0m\n",
      "│   │   ├── \u001b[00mcolima.data.grid\u001b[0m\n",
      "│   │   ├── \u001b[01;32mmachines\u001b[0m\n",
      "│   │   ├── \u001b[00mtephra2.conf\u001b[0m\n",
      "│   │   ├── \u001b[00mtephra2-inversion.conf\u001b[0m\n",
      "│   │   ├── \u001b[00mvent.xy\u001b[0m\n",
      "│   │   └── \u001b[00mwind1\u001b[0m\n",
      "│   ├── \u001b[01;34minversion_src\u001b[0m\n",
      "│   │   ├── \u001b[00mameoba.c\u001b[0m\n",
      "│   │   ├── \u001b[00mameoba.o\u001b[0m\n",
      "│   │   ├── \u001b[00mfit_tests.c\u001b[0m\n",
      "│   │   ├── \u001b[00mfit_tests.o\u001b[0m\n",
      "│   │   ├── \u001b[00mmakefile.linux\u001b[0m\n",
      "│   │   ├── \u001b[00mmakefile.other\u001b[0m\n",
      "│   │   ├── \u001b[00mmaster.c\u001b[0m\n",
      "│   │   ├── \u001b[00mmaster.o\u001b[0m\n",
      "│   │   ├── \u001b[00mminimizing_func.c\u001b[0m\n",
      "│   │   ├── \u001b[00mminimizing_func.o\u001b[0m\n",
      "│   │   ├── \u001b[00mread_inputs.c\u001b[0m\n",
      "│   │   ├── \u001b[00mslave.c\u001b[0m\n",
      "│   │   ├── \u001b[00mslave.o\u001b[0m\n",
      "│   │   ├── \u001b[00mtephra2_calc.o\u001b[0m\n",
      "│   │   ├── \u001b[00mtephra_inversion.c\u001b[0m\n",
      "│   │   └── \u001b[00mtephra_inversion.o\u001b[0m\n",
      "│   ├── \u001b[01;34mlibcygwin64\u001b[0m\n",
      "│   │   ├── \u001b[01;32mlibcord.a\u001b[0m\n",
      "│   │   ├── \u001b[01;32mlibcord.dll.a\u001b[0m\n",
      "│   │   ├── \u001b[01;32mlibcord.la\u001b[0m\n",
      "│   │   ├── \u001b[01;32mlibgc.a\u001b[0m\n",
      "│   │   ├── \u001b[01;32mlibgc.dll.a\u001b[0m\n",
      "│   │   └── \u001b[01;32mlibgc.la\u001b[0m\n",
      "│   ├── \u001b[01;34mlibmac\u001b[0m\n",
      "│   │   └── \u001b[00mlibgc.a\u001b[0m\n",
      "│   ├── \u001b[00mlicense.md\u001b[0m\n",
      "│   ├── \u001b[00mmakefile\u001b[0m\n",
      "│   ├── \u001b[01;34mplotting_scripts\u001b[0m\n",
      "│   │   ├── \u001b[00mcombine_reanalysis_data.conf\u001b[0m\n",
      "│   │   ├── \u001b[00mcombine_reanalysis_data.pl\u001b[0m\n",
      "│   │   ├── \u001b[00mcontours2\u001b[0m\n",
      "│   │   ├── \u001b[00mcreate_grid.conf\u001b[0m\n",
      "│   │   ├── \u001b[00mcreate_grid.pl\u001b[0m\n",
      "│   │   ├── \u001b[00mextract_reanalysis_data.py\u001b[0m\n",
      "│   │   ├── \u001b[00min_vs_out.gmt.pl\u001b[0m\n",
      "│   │   ├── \u001b[00mparse_tephra.out.pl\u001b[0m\n",
      "│   │   ├── \u001b[00mplot_tephra_contours.gmt.pl\u001b[0m\n",
      "│   │   ├── \u001b[00mplume.gmt.pl\u001b[0m\n",
      "│   │   ├── \u001b[00mpsrose.gmt.pl\u001b[0m\n",
      "│   │   ├── \u001b[00mreadme.wind\u001b[0m\n",
      "│   │   ├── \u001b[00mwrite_conf.pl\u001b[0m\n",
      "│   │   └── \u001b[00mwrite_stats.pl\u001b[0m\n",
      "│   ├── \u001b[00mREADME.md\u001b[0m\n",
      "│   ├── \u001b[00mREADME.usage\u001b[0m\n",
      "│   ├── \u001b[01;32mrun-inversion\u001b[0m\n",
      "│   ├── \u001b[01;32mtephra2_2020\u001b[0m\n",
      "│   └── \u001b[01;32mtephra2-inversion_2020\u001b[0m\n",
      "└── \u001b[00mtephra_inversion.log\u001b[0m\n",
      "\n",
      "25 directories, 93 files\n"
     ]
    }
   ],
   "source": [
    "# Cell 1: Import necessary modules\n",
    "import os\n",
    "import sys\n",
    "import numpy as np\n",
    "import pandas as pd\n",
    "import matplotlib.pyplot as plt\n",
    "from pathlib import Path\n",
    "\n",
    "# Ensure project root is in the path\n",
    "project_root = Path.cwd()\n",
    "if str(project_root) not in sys.path:\n",
    "    sys.path.append(str(project_root))\n",
    "\n",
    "# Import the TephraInversion class and utilities\n",
    "from scripts.tephra_inversion import TephraInversion\n",
    "from scripts.core.config import get_default_config\n",
    "from scripts.utils.data_generator import generate_synthetic_data\n",
    "\n",
    "# Set up matplotlib\n",
    "plt.style.use(\"seaborn-v0_8\")\n",
    "get_ipython().run_line_magic('matplotlib', 'inline')\n",
    "get_ipython().system('tree -L 3')"
   ]
  },
  {
   "cell_type": "markdown",
   "metadata": {},
   "source": [
    "## Initialize the Inversion Framework\n",
    " \n",
    "First, we create an instance of the TephraInversion class, which sets up all necessary directories and initializes handlers for wind data, observation data, and the Tephra2 interface.\n"
   ]
  },
  {
   "cell_type": "code",
   "execution_count": 2,
   "metadata": {},
   "outputs": [
    {
     "ename": "TypeError",
     "evalue": "TephraInversion.__init__() missing 1 required positional argument: 'config'",
     "output_type": "error",
     "traceback": [
      "\u001b[0;31m---------------------------------------------------------------------------\u001b[0m",
      "\u001b[0;31mTypeError\u001b[0m                                 Traceback (most recent call last)",
      "Cell \u001b[0;32mIn[2], line 2\u001b[0m\n\u001b[1;32m      1\u001b[0m \u001b[38;5;66;03m# Cell 2: Initialize the inversion framework\u001b[39;00m\n\u001b[0;32m----> 2\u001b[0m inversion \u001b[38;5;241m=\u001b[39m \u001b[43mTephraInversion\u001b[49m\u001b[43m(\u001b[49m\u001b[43m)\u001b[49m\n\u001b[1;32m      4\u001b[0m \u001b[38;5;66;03m# Create input and output directories if they don't exist\u001b[39;00m\n\u001b[1;32m      5\u001b[0m \u001b[38;5;28;01mfor\u001b[39;00m dir_path \u001b[38;5;129;01min\u001b[39;00m [\u001b[38;5;124m\"\u001b[39m\u001b[38;5;124mdata/input\u001b[39m\u001b[38;5;124m\"\u001b[39m, \u001b[38;5;124m\"\u001b[39m\u001b[38;5;124mdata/output/plots\u001b[39m\u001b[38;5;124m\"\u001b[39m, \u001b[38;5;124m\"\u001b[39m\u001b[38;5;124mdata/output/mcmc\u001b[39m\u001b[38;5;124m\"\u001b[39m]:\n",
      "\u001b[0;31mTypeError\u001b[0m: TephraInversion.__init__() missing 1 required positional argument: 'config'"
     ]
    }
   ],
   "source": [
    "# Cell 2: Initialize the inversion framework\n",
    "inversion = TephraInversion()\n",
    "\n",
    "# Create input and output directories if they don't exist\n",
    "for dir_path in [\"data/input\", \"data/output/plots\", \"data/output/mcmc\"]:\n",
    "    Path(dir_path).mkdir(parents=True, exist_ok=True)\n",
    "\n",
    "print(\"Input directory:\", Path(\"data/input\").absolute())\n",
    "print(\"Output directory:\", Path(\"data/output\").absolute())\n",
    "\n",
    "# %%\n",
    "# Check for existing data files\n",
    "input_dir = Path(\"data/input\")\n",
    "obs_file = input_dir / \"observations.csv\"\n",
    "sites_file = input_dir / \"sites.csv\"\n",
    "wind_file = input_dir / \"wind.txt\"\n",
    "\n",
    "print(\"Checking for existing data files:\")\n",
    "print(f\"Observations file exists: {obs_file.exists()}\")\n",
    "print(f\"Sites file exists: {sites_file.exists()}\")\n",
    "print(f\"Wind file exists: {wind_file.exists()}\")"
   ]
  },
  {
   "cell_type": "markdown",
   "metadata": {},
   "source": [
    "## Set Vent Location\n",
    " \n",
    "We start by setting the vent location using latitude and longitude coordinates. The framework automatically converts these to UTM coordinates."
   ]
  },
  {
   "cell_type": "code",
   "execution_count": null,
   "metadata": {},
   "outputs": [],
   "source": [
    "# Cell 3: Set vent location\n",
    "# Example: Kirishima volcano, Japan\n",
    "vent_lat = 31.93\n",
    "vent_lon = 130.93\n",
    "vent_elev = 1000  # meters above sea level\n",
    "\n",
    "inversion.setup_vent_location(vent_lat, vent_lon, vent_elev)"
   ]
  },
  {
   "cell_type": "markdown",
   "metadata": {},
   "source": [
    "## Set Eruption Time\n",
    " \n",
    "Next, we set the eruption time. This is used for documentation and potentially for fetching wind data from reanalysis sources."
   ]
  },
  {
   "cell_type": "code",
   "execution_count": null,
   "metadata": {},
   "outputs": [],
   "source": [
    "# Cell 4: Set eruption time\n",
    "eruption_time = [\"2011\", \"01\", \"26\", \"15:00\"]  # YYYY, MM, DD, HH:MM\n",
    "inversion.setup_eruption_time(eruption_time)"
   ]
  },
  {
   "cell_type": "markdown",
   "metadata": {},
   "source": [
    "## Set Up Wind Data\n",
    " \n",
    "Now we set up the wind profile. We can either load existing wind data or generate synthetic wind data."
   ]
  },
  {
   "cell_type": "code",
   "execution_count": null,
   "metadata": {},
   "outputs": [],
   "source": [
    "# Cell 5: Set up wind data\n",
    "# This will automatically check for existing wind.txt in the input directory\n",
    "# If not found, it will try API, then fall back to synthetic data\n",
    "inversion.setup_wind_data(ask_user=False)  # Don't prompt user in notebook\n",
    "\n",
    "# Show the first few rows of the wind data\n",
    "if inversion.wind_data is not None:\n",
    "    print(\"\\nWind data summary:\")\n",
    "    print(inversion.wind_data.head())"
   ]
  },
  {
   "cell_type": "markdown",
   "metadata": {},
   "source": [
    "## Set Up Observation Data\n",
    " \n",
    "Next, we set up the observation data. We can either load existing data or generate synthetic data."
   ]
  },
  {
   "cell_type": "code",
   "execution_count": null,
   "metadata": {},
   "outputs": [],
   "source": [
    "# Cell 6: Set up observation data\n",
    "# This will automatically check for existing observations.csv and sites.csv\n",
    "# If not found, it will generate synthetic data\n",
    "inversion.setup_observation_data(ask_user=False)  # Don't prompt user in notebook\n",
    "\n",
    "# Show a summary of the observation data\n",
    "if inversion.observations is not None and inversion.sites is not None:\n",
    "    print(\"\\nObservation data summary:\")\n",
    "    print(f\"Number of observations: {len(inversion.observations)}\")\n",
    "    print(f\"Min loading: {inversion.observations.min():.2f} kg/m²\")\n",
    "    print(f\"Max loading: {inversion.observations.max():.2f} kg/m²\")\n",
    "    print(f\"Observation sites shape: {inversion.sites.shape}\")"
   ]
  },
  {
   "cell_type": "markdown",
   "metadata": {},
   "source": [
    "## Set Up Parameters\n",
    " \n",
    "Now we set up the parameters for the inversion."
   ]
  },
  {
   "cell_type": "code",
   "execution_count": null,
   "metadata": {},
   "outputs": [],
   "source": [
    "# Cell 7: Set up parameters\n",
    "mcmc_params = inversion.setup_parameters()\n",
    "\n",
    "print(\"MCMC Parameters:\")\n",
    "print(f\"Initial values: plume_height={mcmc_params['initial_values'][0]} m, log_mass={mcmc_params['initial_values'][1]}\")\n",
    "print(f\"Prior types: {mcmc_params['prior_type']}\")\n",
    "print(f\"Prior parameters (min, max):\")\n",
    "print(f\"  Plume height: {mcmc_params['prior_parameters'][0][0]}-{mcmc_params['prior_parameters'][0][1]} m\")\n",
    "print(f\"  Log mass: {mcmc_params['prior_parameters'][1][0]}-{mcmc_params['prior_parameters'][1][1]}\")\n",
    "print(f\"Draw scales: {mcmc_params['draw_scale']}\")"
   ]
  },
  {
   "cell_type": "markdown",
   "metadata": {},
   "source": [
    "## Run MCMC Inversion\n",
    " \n",
    "Now we run the MCMC inversion to estimate the plume height and eruption mass."
   ]
  },
  {
   "cell_type": "code",
   "execution_count": null,
   "metadata": {},
   "outputs": [],
   "source": [
    "# Cell 8: Run MCMC inversion\n",
    "# For testing, we can use a smaller number of iterations\n",
    "inversion.config[\"mcmc\"][\"n_iterations\"] = 1000  # Reduced for demonstration\n",
    "inversion.config[\"mcmc\"][\"n_burnin\"] = 200\n",
    "\n",
    "results = inversion.run_inversion()"
   ]
  },
  {
   "cell_type": "markdown",
   "metadata": {},
   "source": [
    "## Analyze Results\n",
    "\n",
    "Now we analyze the results of the inversion."
   ]
  },
  {
   "cell_type": "code",
   "execution_count": null,
   "metadata": {},
   "outputs": [],
   "source": [
    "# Cell 9: Plot results\n",
    "burnin = inversion.config[\"mcmc\"][\"n_burnin\"]\n",
    "\n",
    "# Plot plume height trace\n",
    "plt.figure(figsize=(10, 6))\n",
    "plt.plot(results[\"chain\"][\"plume_height\"][burnin:], alpha=0.7)\n",
    "plt.axhline(results[\"best_params\"][\"plume_height\"], color='r', linestyle='--', \n",
    "            label=f'Best: {results[\"best_params\"][\"plume_height\"]:.1f} m')\n",
    "plt.xlabel('Iteration (after burn-in)')\n",
    "plt.ylabel('Plume Height (m)')\n",
    "plt.title('MCMC Chain for Plume Height')\n",
    "plt.legend()\n",
    "plt.grid(True)\n",
    "plt.show()\n",
    "\n",
    "# Plot eruption mass histogram\n",
    "plt.figure(figsize=(10, 6))\n",
    "mass_values = 10 ** results[\"chain\"][\"log_m\"][burnin:]\n",
    "best_mass = 10 ** results[\"best_params\"][\"log_m\"]\n",
    "plt.hist(mass_values, bins=30, alpha=0.7)\n",
    "plt.axvline(best_mass, color='r', linestyle='--', label=f'Best: {best_mass:.2e} kg')\n",
    "plt.xlabel('Eruption Mass (kg)')\n",
    "plt.ylabel('Frequency')\n",
    "plt.title('Posterior Distribution of Eruption Mass')\n",
    "plt.xscale('log')\n",
    "plt.legend()\n",
    "plt.grid(True)\n",
    "plt.show()\n",
    "\n",
    "# Plot joint posterior\n",
    "plt.figure(figsize=(10, 8))\n",
    "plt.scatter(\n",
    "    results[\"chain\"][\"plume_height\"][burnin:],\n",
    "    results[\"chain\"][\"log_m\"][burnin:],\n",
    "    alpha=0.3,\n",
    "    s=10\n",
    ")\n",
    "plt.scatter(\n",
    "    results[\"best_params\"][\"plume_height\"],\n",
    "    results[\"best_params\"][\"log_m\"],\n",
    "    color='red',\n",
    "    s=100,\n",
    "    marker='*',\n",
    "    label=f'Best Fit: {results[\"best_params\"][\"plume_height\"]:.1f} m, 10^{results[\"best_params\"][\"log_m\"]:.2f} kg'\n",
    ")\n",
    "plt.xlabel('Plume Height (m)')\n",
    "plt.ylabel('Log10 Eruption Mass (kg)')\n",
    "plt.title('Joint Posterior Distribution')\n",
    "plt.legend()\n",
    "plt.grid(True)\n",
    "plt.show()"
   ]
  },
  {
   "cell_type": "markdown",
   "metadata": {},
   "source": [
    "## Summary\n",
    "\n",
    "We have successfully performed tephra inversion to estimate plume height and eruption mass for a volcanic eruption. The best-fit parameters are:\n",
    "\n",
    "- Plume height: {best_plume_height:.1f} meters\n",
    "- Eruption mass: {best_mass:.2e} kg\n",
    "\n",
    "These parameters can be used to simulate the tephra dispersion and compare with observations."
   ]
  },
  {
   "cell_type": "code",
   "execution_count": null,
   "metadata": {},
   "outputs": [],
   "source": [
    "# Cell 10: Plot comparison of observed vs predicted\n",
    "# Calculate residuals\n",
    "best_plume_height = results[\"best_params\"][\"plume_height\"]\n",
    "best_log_mass = results[\"best_params\"][\"log_m\"]\n",
    "best_mass = 10 ** best_log_mass\n",
    "\n",
    "residuals = np.log10(inversion.observations) - np.log10(results[\"predictions\"])\n",
    "rmse = np.sqrt(np.mean(residuals**2))\n",
    "\n",
    "plt.figure(figsize=(10, 8))\n",
    "plt.scatter(inversion.observations, results[\"predictions\"], alpha=0.7)\n",
    "plt.plot([inversion.observations.min(), inversion.observations.max()], \n",
    "         [inversion.observations.min(), inversion.observations.max()], \n",
    "         'r--', alpha=0.7)\n",
    "plt.xscale('log')\n",
    "plt.yscale('log')\n",
    "plt.xlabel('Observed Mass Loading (kg/m²)')\n",
    "plt.ylabel('Predicted Mass Loading (kg/m²)')\n",
    "plt.title(f'Observed vs Predicted Mass Loading\\nRMSE (log10): {rmse:.4f}')\n",
    "plt.grid(True)\n",
    "plt.show()"
   ]
  },
  {
   "cell_type": "code",
   "execution_count": null,
   "metadata": {},
   "outputs": [],
   "source": [
    "# Cell 11: Print final summary\n",
    "print(\"Final Inversion Results:\")\n",
    "print(f\"Plume Height: {best_plume_height:.1f} m\")\n",
    "print(f\"Eruption Mass: {best_mass:.2e} kg\")\n",
    "print(f\"Acceptance Rate: {results['acceptance_rate']:.2f}\")\n",
    "print(f\"RMSE (log10): {rmse:.4f}\")\n",
    "print(f\"Results file: {results.get('results_file', 'Not saved')}\")"
   ]
  },
  {
   "cell_type": "markdown",
   "metadata": {},
   "source": [
    "## Run Complete Workflow (Interactive)\n",
    "Alternatively, you can run the complete workflow with interactive prompts:"
   ]
  },
  {
   "cell_type": "code",
   "execution_count": null,
   "metadata": {},
   "outputs": [],
   "source": [
    "# Cell 12: Run interactive workflow (uncomment to run)\n",
    "# new_inversion = TephraInversion()\n",
    "# new_results = new_inversion.run_workflow()"
   ]
  }
 ],
 "metadata": {
  "kernelspec": {
   "display_name": "Python 3 (ipykernel)",
   "language": "python",
   "name": "python3"
  },
  "language_info": {
   "codemirror_mode": {
    "name": "ipython",
    "version": 3
   },
   "file_extension": ".py",
   "mimetype": "text/x-python",
   "name": "python",
   "nbconvert_exporter": "python",
   "pygments_lexer": "ipython3",
   "version": "3.10.16"
  }
 },
 "nbformat": 4,
 "nbformat_minor": 4
}
